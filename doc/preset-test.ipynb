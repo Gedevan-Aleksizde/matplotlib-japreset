{
 "cells": [
  {
   "cell_type": "code",
   "execution_count": null,
   "metadata": {
    "ExecuteTime": {
     "end_time": "2020-09-18T15:07:22.181421Z",
     "start_time": "2020-09-18T15:07:21.171726Z"
    }
   },
   "outputs": [],
   "source": [
    "from plotnine import *\n",
    "from pathlib import Path\n",
    "import pandas as pd"
   ]
  },
  {
   "cell_type": "code",
   "execution_count": null,
   "metadata": {
    "ExecuteTime": {
     "end_time": "2020-09-18T15:07:30.704670Z",
     "start_time": "2020-09-18T15:07:30.698496Z"
    }
   },
   "outputs": [],
   "source": [
    "g = ggplot(pd.DataFrame(), aes(x='0', y='0')) + labs(x='あほ', y=\"こしぬけ\", title=\"真の男 $\\sum_i$\")"
   ]
  },
  {
   "cell_type": "code",
   "execution_count": null,
   "metadata": {
    "ExecuteTime": {
     "end_time": "2020-09-18T15:07:22.532433Z",
     "start_time": "2020-09-18T15:07:22.513360Z"
    }
   },
   "outputs": [],
   "source": [
    "from matplotlib_japreset import mplj_cairo"
   ]
  },
  {
   "cell_type": "code",
   "execution_count": null,
   "metadata": {
    "ExecuteTime": {
     "end_time": "2020-09-18T15:07:32.241453Z",
     "start_time": "2020-09-18T15:07:32.206917Z"
    }
   },
   "outputs": [],
   "source": [
    "g.draw();"
   ]
  },
  {
   "cell_type": "code",
   "execution_count": null,
   "metadata": {
    "ExecuteTime": {
     "end_time": "2020-09-18T15:07:34.062898Z",
     "start_time": "2020-09-18T15:07:33.629880Z"
    }
   },
   "outputs": [],
   "source": [
    "g.save(\"cairo-mode.pdf\")"
   ]
  },
  {
   "cell_type": "code",
   "execution_count": null,
   "metadata": {
    "ExecuteTime": {
     "end_time": "2020-09-18T14:40:13.917178Z",
     "start_time": "2020-09-18T14:40:13.892833Z"
    }
   },
   "outputs": [],
   "source": [
    "from matplotlib_japreset import mplj_pgf"
   ]
  },
  {
   "cell_type": "code",
   "execution_count": null,
   "metadata": {
    "ExecuteTime": {
     "end_time": "2020-09-18T14:41:02.085083Z",
     "start_time": "2020-09-18T14:41:00.550413Z"
    }
   },
   "outputs": [],
   "source": [
    "g.draw();"
   ]
  },
  {
   "cell_type": "code",
   "execution_count": null,
   "metadata": {
    "ExecuteTime": {
     "end_time": "2020-09-18T14:41:48.836705Z",
     "start_time": "2020-09-18T14:41:47.298065Z"
    }
   },
   "outputs": [],
   "source": [
    "g.save(\"pgf-mode.pdf\")"
   ]
  }
 ],
 "metadata": {
  "hide_input": false,
  "kernelspec": {
   "display_name": "Python 3",
   "language": "python",
   "name": "python3"
  },
  "language_info": {
   "codemirror_mode": {
    "name": "ipython",
    "version": 3
   },
   "file_extension": ".py",
   "mimetype": "text/x-python",
   "name": "python",
   "nbconvert_exporter": "python",
   "pygments_lexer": "ipython3",
   "version": "3.8.2"
  },
  "varInspector": {
   "cols": {
    "lenName": 16,
    "lenType": 16,
    "lenVar": 40
   },
   "kernels_config": {
    "python": {
     "delete_cmd_postfix": "",
     "delete_cmd_prefix": "del ",
     "library": "var_list.py",
     "varRefreshCmd": "print(var_dic_list())"
    },
    "r": {
     "delete_cmd_postfix": ") ",
     "delete_cmd_prefix": "rm(",
     "library": "var_list.r",
     "varRefreshCmd": "cat(var_dic_list()) "
    }
   },
   "types_to_exclude": [
    "module",
    "function",
    "builtin_function_or_method",
    "instance",
    "_Feature"
   ],
   "window_display": false
  }
 },
 "nbformat": 4,
 "nbformat_minor": 4
}
